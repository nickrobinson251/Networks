{
 "cells": [
  {
   "cell_type": "markdown",
   "metadata": {},
   "source": [
    "# Networks Analysis with Python\n",
    "#### A series of notebooks with metrics and models for analysing networks\n",
    "Based on slides from Cecilia Mascolo's lectures for the Cambridge University Computer Lab course <a href=https://www.cl.cam.ac.uk/teaching/1415/L109/>Social and Technological Network Analysis</a>"
   ]
  },
  {
   "cell_type": "code",
   "execution_count": 1,
   "metadata": {
    "collapsed": false
   },
   "outputs": [],
   "source": [
    "import matplotlib.pyplot as plt # required for plotting graphs\n",
    "import networkx as nx # main graph library\n",
    "from utils import show_graph # helper function for pretty plotting\n",
    "# show graphs in the notebook\n",
    "%matplotlib inline"
   ]
  },
  {
   "cell_type": "markdown",
   "metadata": {},
   "source": [
    "## An quick introduction to graphs\n",
    "- A _graph_ $G$ is a tuple $(V, E)$ of a set of nodes (also called vertices) and edges. An edge in $E$ connects two nodes in $V$\n",
    "- The _neighbour set_ $N(v)$ of a node v is the set of nodes which are connected to $v$ by an edge. We can write this as $$ N(v) = \\{ u \\in V \\mid (v, u) \\in E, u \\neq v \\} $$\n"
   ]
  },
  {
   "cell_type": "code",
   "execution_count": 2,
   "metadata": {
    "collapsed": false
   },
   "outputs": [
    {
     "name": "stdout",
     "output_type": "stream",
     "text": [
      "N(a) = ['c', 'b']\n"
     ]
    },
    {
     "data": {
      "image/png": "[encoded data removed]",
      "text/plain": [
       "<matplotlib.figure.Figure at 0x7fc828f8bb50>"
      ]
     },
     "metadata": {},
     "output_type": "display_data"
    }
   ],
   "source": [
    "V = ['a', 'b', 'c']\n",
    "E = [('a', 'b'), ('a', 'c')]\n",
    "G = nx.Graph()\n",
    "G.add_nodes_from(V)\n",
    "G.add_edges_from(E)\n",
    "\n",
    "nx.draw_networkx(G, node_size=2000, font_size=20)\n",
    "print 'N(a) = {}'.format(G.neighbors('a'))\n",
    "show_graph()"
   ]
  },
  {
   "cell_type": "markdown",
   "metadata": {},
   "source": [
    "### Graphs can be directed or undirected\n",
    "We can think of social networks as graphs. Each person is a node of the graph, and if they are friends, then we can connect them with an edge. On Facebook friendship is mutual. The `\"__is friends with__\"` relation is a _symmetric_. John is friends with Paul if and only if Paul is friends with John. \n",
    "\n",
    "When writing down the edges, we can think of this as saying that order does not matter $(j, p) = (p, j)$.\n",
    "\n",
    "Twitter is a bit different. On Twitter, users have followers, and PJ can follow Alex, even if Alex doesn's follow PJ. If we were to represent Twitter as a graph, the nodes could still be users, like with Facebook, but the edges between them would have a direction. The `\"__is following__\"` realtion goes from one person to the other, and there may or may not be a connection going back the other way. In this case order matters, $(PJ, Alex) \\neq (Alex, PJ)$"
   ]
  },
  {
   "cell_type": "code",
   "execution_count": 3,
   "metadata": {
    "collapsed": false
   },
   "outputs": [
    {
     "data": {
      "image/png": "[encoded data removed]",
      "text/plain": [
       "<matplotlib.figure.Figure at 0x7fc7ff8e6c50>"
      ]
     },
     "metadata": {},
     "output_type": "display_data"
    }
   ],
   "source": [
    "G = nx.DiGraph()\n",
    "G.add_path(['a', 'b'])\n",
    "G.add_path(['a', 'c'])\n",
    "G.add_path(['b', 'c'])\n",
    "G.add_path(['c', 'd'])\n",
    "\n",
    "fig, ax = plt.subplots(ncols=2)\n",
    "nx.draw_networkx(G, ax=ax[0])\n",
    "ax[0].set_title('Directed')\n",
    "nx.draw_networkx(G.to_undirected(), ax=ax[1])\n",
    "ax[1].set_title('Undirected')\n",
    "show_graph(ax=ax)"
   ]
  },
  {
   "cell_type": "markdown",
   "metadata": {},
   "source": [
    "### A _path_ is a set of nodes where each pair of consecutive nodes is connected by an edge\n",
    "- If\ta\tgraph\tis\t_directed_\tthe\tedge\tneeds\tto\tbe\tin\tthe\tright\tdirection\n",
    "- A-B-C\tis\ta\tpath\tin\tboth\tprevious\tgraphs. A-C-B is only a path in the undirected graph.\n",
    "\n",
    "\n",
    "### A\tcycle\tis\ta\tpath\twhere\tthe\tstart\tnode\tis\talso the\tend\tnode\t\n",
    "- A-B-C\tis\ta\tcycle\tin\tthe\tundirected\tgraph"
   ]
  },
  {
   "cell_type": "markdown",
   "metadata": {},
   "source": [
    "### A\tgraph\tis\t_connected_\tif\tthere\tis\ta\tpath\tbetween\t_every\tpair_\tof\tnodes.\t"
   ]
  },
  {
   "cell_type": "code",
   "execution_count": 4,
   "metadata": {
    "collapsed": false
   },
   "outputs": [
    {
     "data": {
      "image/png": "[encoded data removed]",
      "text/plain": [
       "<matplotlib.figure.Figure at 0x7fc7ff8f0e90>"
      ]
     },
     "metadata": {},
     "output_type": "display_data"
    }
   ],
   "source": [
    "G = nx.Graph()\n",
    "E = [(0,1), (2,3), (3,4)]\n",
    "G.add_edges_from(E)\n",
    "nx.draw(G)\n",
    "plt.title('Disconnected');"
   ]
  },
  {
   "cell_type": "markdown",
   "metadata": {},
   "source": [
    "### A\t_connected\tcomponent_\tof a graph is a\t subset\tof\tnodes\tfor\twhich\teach\tof\tthem\thas\ta path\tto\tall\tothers\ts\t(and\tthe\tsubset\tis\tnot\tpart\tof\ta\tlarger\tsubset\twith\tthis\tproperty).\t\n",
    "- There are two components in the graph above.\n",
    "- A\t_giant\tcomponent_ is a connected component containing a significant fraction of nodes in the network."
   ]
  },
  {
   "cell_type": "markdown",
   "metadata": {},
   "source": [
    "### The\t_distance_ $d$ between\ttwo\tnodes\tin\ta\tgraph\tis\tthe\tlength\tof\tthe\tshortest\tpath\tlinking\t the\ttwo\tgraphs.\t\n",
    "-  The\tdiameter\tof\tthe\tgraph\tis\tthe\t_maximum\tdistance_\tbetween\tany\tpair\tof\tits\tnodes.\n",
    "\t"
   ]
  },
  {
   "cell_type": "code",
   "execution_count": null,
   "metadata": {
    "collapsed": true
   },
   "outputs": [],
   "source": []
  },
  {
   "cell_type": "markdown",
   "metadata": {},
   "source": [
    "## Questions"
   ]
  },
  {
   "cell_type": "markdown",
   "metadata": {},
   "source": [
    "A. Number of nodes"
   ]
  },
  {
   "cell_type": "markdown",
   "metadata": {},
   "source": [
    "B. Shortest path"
   ]
  },
  {
   "cell_type": "markdown",
   "metadata": {},
   "source": [
    "C. Cycles"
   ]
  },
  {
   "cell_type": "markdown",
   "metadata": {},
   "source": [
    "D. In-degree, Out-degree"
   ]
  },
  {
   "cell_type": "code",
   "execution_count": null,
   "metadata": {
    "collapsed": true
   },
   "outputs": [],
   "source": []
  }
 ],
 "metadata": {
  "anaconda-cloud": {},
  "kernelspec": {
   "display_name": "Python [default]",
   "language": "python",
   "name": "python2"
  },
  "language_info": {
   "codemirror_mode": {
    "name": "ipython",
    "version": 2
   },
   "file_extension": ".py",
   "mimetype": "text/x-python",
   "name": "python",
   "nbconvert_exporter": "python",
   "pygments_lexer": "ipython2",
   "version": "2.7.12"
  }
 },
 "nbformat": 4,
 "nbformat_minor": 0
}
