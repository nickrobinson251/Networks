{
 "cells": [
  {
   "cell_type": "markdown",
   "metadata": {},
   "source": [
    "# Networks Analysis with Python\n",
    "#### A series of notebook of models and metrics for analysing large datasets of networks\n",
    "Based on slides from Cecilia Mascolo's lectures for the Cambridge University Computer Lab course <a href=https://www.cl.cam.ac.uk/teaching/1415/L109/>Social and Technological Network Analysis</a>"
   ]
  },
  {
   "cell_type": "code",
   "execution_count": 119,
   "metadata": {
    "collapsed": false
   },
   "outputs": [],
   "source": [
    "import matplotlib.pyplot as plt # required for plotting graphs\n",
    "import networkx as nx # main graph library\n",
    "import numpy as np \n",
    "import pandas as pd\n",
    "# show graphs in the notebook\n",
    "%matplotlib inline "
   ]
  },
  {
   "cell_type": "markdown",
   "metadata": {},
   "source": [
    "## Graphs are useful\n",
    "- A _graph_ $G$ is a tuple $(V, E)$ of a set of nodes (also called vertices) and edges. An edge in $E$ connects two nodes in $V$\n",
    "- The _neighbour set_ $N(v)$ of a node v is the set of nodes which are connected to $v$ by an edge. We can write this as $$ N(v) = \\{ u \\in V \\mid (v, u) \\in E, u \\neq v \\} $$\n"
   ]
  },
  {
   "cell_type": "code",
   "execution_count": 162,
   "metadata": {
    "collapsed": false
   },
   "outputs": [
    {
     "data": {
      "image/png": "[encoded data removed]",
      "text/plain": [
       "<matplotlib.figure.Figure at 0x7f07e491d490>"
      ]
     },
     "metadata": {},
     "output_type": "display_data"
    }
   ],
   "source": [
    "V = [1, 2, 3]\n",
    "E = [(1, 2), (1,3)]\n",
    "G = nx.Graph()\n",
    "G.add_nodes_from(V)\n",
    "G.add_edges_from(E)\n",
    "nx.draw(G, node_size=5000, linewidths=0)"
   ]
  },
  {
   "cell_type": "code",
   "execution_count": 139,
   "metadata": {
    "collapsed": false
   },
   "outputs": [
    {
     "data": {
      "image/png": "[encoded data removed]",
      "text/plain": [
       "<matplotlib.figure.Figure at 0x7f07e670cbd0>"
      ]
     },
     "metadata": {},
     "output_type": "display_data"
    }
   ],
   "source": [
    "G = nx.erdos_renyi_graph(3, 0.5)\n",
    "nx.draw(G)"
   ]
  },
  {
   "cell_type": "code",
   "execution_count": 70,
   "metadata": {
    "collapsed": false
   },
   "outputs": [],
   "source": [
    "# also called a binomial graph or G(n,p).\n",
    "# n nodes, an edge e=(n1, n2) exists with probablity p\n",
    "G = nx.erdos_renyi_graph(n=100, p=0.2, directed=False)"
   ]
  },
  {
   "cell_type": "markdown",
   "metadata": {},
   "source": [
    "## Probability of a node having degree $k$\n",
    "The expected degree of a node equals $$ P(k_i=k) = {N \\choose k} p^k (1− p)^{N−1−k}$$"
   ]
  },
  {
   "cell_type": "code",
   "execution_count": 111,
   "metadata": {
    "collapsed": false
   },
   "outputs": [
    {
     "data": {
      "image/png": "[encoded data removed]",
      "text/plain": [
       "<matplotlib.figure.Figure at 0x7f07e96879d0>"
      ]
     },
     "metadata": {},
     "output_type": "display_data"
    }
   ],
   "source": [
    "def choose(n, k):\n",
    "    from math import factorial\n",
    "    return (factorial(n) / \n",
    "            (factorial(n-k) * factorial(k)))\n",
    "\n",
    "def p_of_degree(k, n, p):\n",
    "    '''Returns the probability of a node\n",
    "    in a random n, p binomial graph having k degrees'''\n",
    "    return choose(n-1, k) * p**k * (1-p)**(n-1-k)\n",
    "\n",
    "# G.number_of_nodes() == G.order()\n",
    "plt.plot([p_of_degree(k, G.number_of_nodes(), 0.2) for k in xrange(G.number_of_nodes())]); "
   ]
  },
  {
   "cell_type": "markdown",
   "metadata": {},
   "source": [
    "## Average degrees $\\langle k \\rangle$ of a node \n",
    "\n",
    "- Equal to the number of possible successor nodes $N - 1$ times the probability $p$ of an edge connecting them.\n",
    "- So, for large $N$, roughly $Np$"
   ]
  },
  {
   "cell_type": "code",
   "execution_count": 112,
   "metadata": {
    "collapsed": false
   },
   "outputs": [
    {
     "data": {
      "text/plain": [
       "19.8"
      ]
     },
     "execution_count": 112,
     "metadata": {},
     "output_type": "execute_result"
    }
   ],
   "source": [
    "def expected_degree_of_Gnp(n, p):\n",
    "    return (n-1) * p\n",
    "\n",
    "expected_degree_of_Gnp(100, 0.2)"
   ]
  },
  {
   "cell_type": "code",
   "execution_count": 114,
   "metadata": {
    "collapsed": false
   },
   "outputs": [
    {
     "data": {
      "text/plain": [
       "1.54241820866388"
      ]
     },
     "execution_count": 114,
     "metadata": {},
     "output_type": "execute_result"
    }
   ],
   "source": [
    "def average_path_of_Gnp(n, p):\n",
    "    # node at distance L\n",
    "    # n = k**L\n",
    "    # log n = L log k\n",
    "    # L = log n / log k\n",
    "    return np.log(n) / np.log(expected_degree_of_Gnp(n, p))\n",
    "\n",
    "average_path_of_Gnp(100, 0.2)"
   ]
  },
  {
   "cell_type": "markdown",
   "metadata": {},
   "source": [
    "## Relationship\tof\t$\\langle k \\rangle$\tand\tgraph connectedness\t\n",
    "- $\\langle k \\rangle =$ average degree(np) \n",
    "- If $\\langle k \\rangle < 1$ graph is disconnected\n",
    "- If $\\langle k \\rangle > 1$ graph has a giant component\n",
    "- If $\\langle k \\rangle \\geqslant ln(N)$ graph\tis\ttotally\tconnected\t"
   ]
  },
  {
   "cell_type": "code",
   "execution_count": null,
   "metadata": {
    "collapsed": true
   },
   "outputs": [],
   "source": []
  },
  {
   "cell_type": "code",
   "execution_count": null,
   "metadata": {
    "collapsed": true
   },
   "outputs": [],
   "source": []
  },
  {
   "cell_type": "code",
   "execution_count": null,
   "metadata": {
    "collapsed": true
   },
   "outputs": [],
   "source": []
  },
  {
   "cell_type": "code",
   "execution_count": null,
   "metadata": {
    "collapsed": true
   },
   "outputs": [],
   "source": []
  }
 ],
 "metadata": {
  "anaconda-cloud": {},
  "kernelspec": {
   "display_name": "Python [default]",
   "language": "python",
   "name": "python2"
  },
  "language_info": {
   "codemirror_mode": {
    "name": "ipython",
    "version": 2
   },
   "file_extension": ".py",
   "mimetype": "text/x-python",
   "name": "python",
   "nbconvert_exporter": "python",
   "pygments_lexer": "ipython2",
   "version": "2.7.12"
  }
 },
 "nbformat": 4,
 "nbformat_minor": 0
}
